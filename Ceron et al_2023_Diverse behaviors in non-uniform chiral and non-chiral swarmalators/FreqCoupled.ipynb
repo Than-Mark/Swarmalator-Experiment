{
 "cells": [
  {
   "cell_type": "code",
   "execution_count": 1,
   "metadata": {},
   "outputs": [],
   "source": [
    "import matplotlib.colors as mcolors\n",
    "import matplotlib.pyplot as plt\n",
    "from tqdm.notebook import tqdm\n",
    "import numpy as np\n",
    "import numba as nb\n",
    "randomSeed = 100\n",
    "\n",
    "%matplotlib inline\n",
    "%config InlineBackend.figure_format = \"svg\"\n",
    "\n",
    "new_cmap = mcolors.LinearSegmentedColormap.from_list(\n",
    "    \"new\", plt.cm.jet(np.linspace(0, 1, 256)) * 0.85, N=256\n",
    ")\n",
    "\n",
    "import seaborn as sns\n",
    "\n",
    "sns.set(font_scale=1.1, rc={\n",
    "    'figure.figsize': (10, 6),\n",
    "    'axes.facecolor': 'white',\n",
    "    'figure.facecolor': 'white',\n",
    "    'grid.color': '#dddddd',\n",
    "    'grid.linewidth': 0.5,\n",
    "    \"lines.linewidth\": 1.5,\n",
    "    'text.color': '#000000',\n",
    "    'figure.titleweight': \"bold\",\n",
    "    'xtick.color': '#000000',\n",
    "    'ytick.color': '#000000'\n",
    "})"
   ]
  },
  {
   "cell_type": "code",
   "execution_count": 17,
   "metadata": {},
   "outputs": [],
   "source": [
    "class Swarmalators2D():\n",
    "    def __init__(self, agentsNum: int, dt: float, K: float) -> None:\n",
    "        np.random.seed(randomSeed)\n",
    "        self.positionX = np.random.random((agentsNum, 2)) * 2 - 1\n",
    "        self.phaseTheta = np.random.random(agentsNum) * 2 * np.pi\n",
    "        self.agentsNum = agentsNum\n",
    "        self.dt = dt\n",
    "        self.K = K\n",
    "\n",
    "    @staticmethod\n",
    "    @nb.njit\n",
    "    def _delta_theta(phaseTheta):\n",
    "        dim = phaseTheta.shape[0]\n",
    "        subTheta = phaseTheta - np.repeat(phaseTheta, dim).reshape(dim, dim)\n",
    "\n",
    "        deltaTheta = np.zeros((dim, dim - 1))\n",
    "        for i in np.arange(dim):\n",
    "            deltaTheta[i, :i], deltaTheta[i, i:] = subTheta[i, :i], subTheta[i, i + 1 :]\n",
    "        return deltaTheta\n",
    "\n",
    "    @staticmethod\n",
    "    @nb.njit\n",
    "    def _delta_x(positionX):\n",
    "        dim = positionX.shape[0]\n",
    "        subX = positionX - np.repeat(positionX, dim).reshape(dim, 2, dim).transpose(0, 2, 1)\n",
    "        deltaX = np.zeros((dim, dim - 1, 2))\n",
    "        for i in np.arange(dim):\n",
    "            deltaX[i, :i], deltaX[i, i:] = subX[i, :i], subX[i, i + 1 :]\n",
    "        return deltaX\n",
    "\n",
    "    @staticmethod\n",
    "    @nb.njit\n",
    "    def distance_x_2(deltaX):\n",
    "        return np.sqrt(deltaX[:, :, 0] ** 2 + deltaX[:, :, 1] ** 2).reshape(deltaX.shape[0], deltaX.shape[1], 1)\n",
    "\n",
    "    @staticmethod\n",
    "    @nb.njit\n",
    "    def distance_x(deltaX):\n",
    "        return np.sqrt(deltaX[:, :, 0] ** 2 + deltaX[:, :, 1] ** 2)\n",
    "\n",
    "    @property\n",
    "    def deltaTheta(self) -> np.ndarray:\n",
    "        \"\"\"Phase difference between agents\"\"\"\n",
    "        return self._delta_theta(self.phaseTheta)\n",
    "\n",
    "    @property\n",
    "    def deltaX(self) -> np.ndarray:\n",
    "        \"\"\"Spatial difference between agents\"\"\"\n",
    "        return self._delta_x(self.positionX)\n",
    "\n",
    "    @property\n",
    "    def Fatt(self) -> np.ndarray:\n",
    "        \"\"\"Effect of phase similarity on spatial attraction\"\"\"\n",
    "        pass\n",
    "\n",
    "    @property\n",
    "    def Frep(self) -> np.ndarray:\n",
    "        \"\"\"Effect of phase similarity on spatial repulsion\"\"\"\n",
    "        pass\n",
    "\n",
    "    @property\n",
    "    def Iatt(self) -> np.ndarray:\n",
    "        \"\"\"Spatial attraction\"\"\"\n",
    "        pass\n",
    "\n",
    "    @property\n",
    "    def Irep(self) -> np.ndarray:\n",
    "        \"\"\"Spatial repulsion\"\"\"\n",
    "        pass\n",
    "\n",
    "    @property\n",
    "    def H(self) -> np.ndarray:\n",
    "        \"\"\"Phase interaction\"\"\"\n",
    "        pass\n",
    "\n",
    "    @property\n",
    "    def G(self) -> np.ndarray:\n",
    "        \"\"\"Effect of spatial similarity on phase couplings\"\"\"\n",
    "        pass\n",
    "\n",
    "    @property\n",
    "    def velocity(self) -> np.ndarray:\n",
    "        \"\"\"Self propulsion velocity\"\"\"\n",
    "        pass\n",
    "\n",
    "    @property\n",
    "    def omega(self) -> np.ndarray:\n",
    "        \"\"\"Natural intrinsic frequency\"\"\"\n",
    "        pass\n",
    "\n",
    "    @staticmethod\n",
    "    @nb.njit\n",
    "    def _update(\n",
    "        positionX: np.ndarray, phaseTheta: np.ndarray,\n",
    "        velocity: np.ndarray, omega: np.ndarray,\n",
    "        Iatt: np.ndarray, Irep: np.ndarray,\n",
    "        Fatt: np.ndarray, Frep: np.ndarray,\n",
    "        H: np.ndarray, G: np.ndarray,\n",
    "        K: float, dt: float\n",
    "    ):\n",
    "        dim = positionX.shape[0]\n",
    "        pointX = velocity + np.sum(\n",
    "            Iatt * Fatt.reshape((dim, dim - 1, 1)) - Irep * Frep.reshape((dim, dim - 1, 1)),\n",
    "            axis=1\n",
    "        ) / (dim - 1)\n",
    "        positionX += pointX * dt\n",
    "        pointTheta = omega + K * np.sum(H * G, axis=1) / (dim - 1)\n",
    "        phaseTheta = np.mod(phaseTheta + pointTheta * dt, 2 * np.pi)\n",
    "        return positionX, phaseTheta\n",
    "    \n",
    "\n",
    "    def update(self) -> None:\n",
    "        self.positionX, self.phaseTheta = self._update(\n",
    "            self.positionX, self.phaseTheta,\n",
    "            self.velocity, self.omega,\n",
    "            self.Iatt, self.Irep,\n",
    "            self.Fatt, self.Frep,\n",
    "            self.H, self.G,\n",
    "            self.K, self.dt\n",
    "        )\n",
    "\n",
    "    def plot(self) -> None:\n",
    "        plt.figure(figsize=(6, 5))\n",
    "\n",
    "        plt.rcParams['mathtext.fontset'] = 'stix'\n",
    "        plt.rcParams['font.family'] = 'STIXGeneral'\n",
    "        plt.scatter(self.positionX[:, 0], self.positionX[:, 1],\n",
    "                    c=self.phaseTheta, cmap=new_cmap, alpha=0.8, vmin=0, vmax=2*np.pi)\n",
    "\n",
    "        cbar = plt.colorbar(ticks=[0, np.pi, 2*np.pi])\n",
    "        cbar.ax.set_ylim(0, 2*np.pi)\n",
    "        cbar.ax.set_yticklabels(['$0$', '$\\pi$', '$2\\pi$'])\n",
    "        \n",
    "        # plt.show()\n",
    "\n",
    "\n",
    "class ChiralSwarmalators2D(Swarmalators2D):\n",
    "    def __init__(self, agentsNum: int, dt: float,\n",
    "                 J: float, K: float,\n",
    "                 A: float, B: float) -> None:\n",
    "        super().__init__(agentsNum, dt, K)\n",
    "        self.J = J\n",
    "        self.K = K\n",
    "        self.A = A\n",
    "        self.B = B * np.ones((agentsNum, agentsNum - 1))\n",
    "        self.omegaValue = np.ones(agentsNum)\n",
    "        randomHalfIdx = np.random.choice(agentsNum, agentsNum // 2, replace=False)\n",
    "        self.omegaValue[randomHalfIdx] = -1\n",
    "\n",
    "    @property\n",
    "    def omega(self) -> np.ndarray:\n",
    "        return self.omegaValue\n",
    "\n",
    "    @property\n",
    "    def Fatt(self) -> np.ndarray:\n",
    "        \"\"\"\n",
    "        Effect of phase similarity on spatial attraction\n",
    "        A + J * cos(theta_j - theta_i)\n",
    "        \"\"\"\n",
    "        return self.A + self.J * np.cos(self.deltaTheta)\n",
    "    \n",
    "    @property\n",
    "    def Frep(self) -> np.ndarray:\n",
    "        \"\"\"Effect of phase similarity on spatial repulsion: B\"\"\"\n",
    "        return self.B\n",
    "\n",
    "    @property\n",
    "    def Iatt(self) -> np.ndarray:\n",
    "        \"\"\"Spatial attraction: (x_j - x_i) / |x_j - x_i|\"\"\"\n",
    "\n",
    "        return self.deltaX / self.distance_x_2(self.deltaX)\n",
    "    # self.deltaX / np.linalg.norm(self.deltaX, axis=-1, keepdims=True)\n",
    "    \n",
    "    @property\n",
    "    def Irep(self) -> np.ndarray:\n",
    "        \"\"\"Spatial repulsion: (x_j - x_i) / |x_j - x_i| ^ 2\"\"\"\n",
    "        return self.deltaX / self.distance_x_2(self.deltaX) ** 2\n",
    "\n",
    "    @property\n",
    "    def H(self) -> np.ndarray:\n",
    "        \"\"\"Phase interaction: sin(theta_j - theta_i)\"\"\"\n",
    "        return np.sin(self.deltaTheta)\n",
    "    \n",
    "    @property\n",
    "    def G(self) -> np.ndarray:\n",
    "        \"\"\"Effect of spatial similarity on phase couplings: 1 / |x_i - x_j|\"\"\"\n",
    "        return 1 / self.distance_x(self.deltaX)\n",
    "    \n",
    "    @staticmethod\n",
    "    @nb.njit\n",
    "    def _velocity(omega: np.ndarray, phaseTheta: np.ndarray) -> np.ndarray:\n",
    "        dim = omega.shape[0]\n",
    "        n = np.zeros((dim, 2))\n",
    "        n[:, 0] = np.cos(phaseTheta + np.pi / 2)\n",
    "        n[:, 1] = np.sin(phaseTheta + np.pi / 2)\n",
    "        return np.sign(omega).reshape((dim, 1)) * n\n",
    "\n",
    "    @property\n",
    "    def velocity(self) -> np.ndarray:\n",
    "        \"\"\"Self propulsion velocity: 0\"\"\"\n",
    "        return self._velocity(self.omega, self.phaseTheta)\n",
    "    \n",
    "class FreqCoupledChiralSwarmalators2D(ChiralSwarmalators2D):\n",
    "    def __init__(self, agentsNum: int, dt: float,\n",
    "                 J: float, K: float,\n",
    "                 A: float, B: float) -> None:\n",
    "        super().__init__(agentsNum, dt, J, K, A, B)\n",
    "        self.QdotX = np.pi / 2 * self.delta_sign_omega(self.omegaValue)\n",
    "        self.QdotTheta = np.pi / 4 * self.delta_sign_omega(self.omegaValue)\n",
    "\n",
    "    @staticmethod\n",
    "    @nb.njit\n",
    "    def delta_sign_omega(omega: np.ndarray):\n",
    "        dim = omega.shape[0]\n",
    "        subOmega = np.sign(omega) - np.sign(np.repeat(omega, dim).reshape(dim, dim))\n",
    "\n",
    "        deltaOmega = np.zeros((dim, dim - 1))\n",
    "        for i in np.arange(dim):\n",
    "            deltaOmega[i, :i], deltaOmega[i, i:] = subOmega[i, :i], subOmega[i, i + 1 :]\n",
    "        return np.abs(deltaOmega)\n",
    "    \n",
    "    @property\n",
    "    def Fatt(self) -> np.ndarray:\n",
    "        \"\"\"\n",
    "        Effect of phase similarity on spatial attraction\n",
    "        A + J * cos(theta_j - theta_i)\n",
    "        \"\"\"\n",
    "        return self.A + self.J * np.cos(self.deltaTheta - self.QdotX)\n",
    "    \n",
    "    @property\n",
    "    def H(self) -> np.ndarray:\n",
    "        \"\"\"Phase interaction: sin(theta_j - theta_i)\"\"\"\n",
    "        return np.sin(self.deltaTheta - self.QdotTheta)\n",
    "\n",
    "\n",
    "@nb.njit\n",
    "def colors_idx(phaseTheta):\n",
    "    return np.floor(phaseTheta / (2 * np.pi) * 256).astype(np.int32)\n",
    "\n",
    "def plot_model(positionX, phaseTheta, velocity, xlim, ylim, title):\n",
    "    plt.figure(figsize=(6, 5))\n",
    "\n",
    "    plt.rcParams['mathtext.fontset'] = 'stix'\n",
    "    plt.rcParams['font.family'] = 'STIXGeneral'\n",
    "\n",
    "    \n",
    "    \n",
    "    plt.quiver(positionX[:, 0], positionX[:, 1], velocity[:, 0], velocity[:, 1],\n",
    "               color=[new_cmap(i) for i in colors_idx(phaseTheta)], alpha=0.8, scale=15, width=0.005)\n",
    "    plt.scatter(positionX[:, 0], positionX[:, 1],\n",
    "                c=phaseTheta, cmap=new_cmap, alpha=0.8, vmin=0, vmax=2*np.pi, s=0.1)\n",
    "    cbar = plt.colorbar(ticks=[0, np.pi, 2 * np.pi])\n",
    "    cbar.ax.set_ylim(0, 2* np.pi)\n",
    "    cbar.ax.set_yticklabels(['$0$', '$\\pi$', '$2\\pi$'])\n",
    "    plt.xlim(xlim)\n",
    "    plt.ylim(ylim)\n",
    "    plt.title(title)"
   ]
  },
  {
   "cell_type": "code",
   "execution_count": 48,
   "metadata": {},
   "outputs": [
    {
     "data": {
      "application/vnd.jupyter.widget-view+json": {
       "model_id": "bc6ceabed60c403bbc4d2ee64c06509c",
       "version_major": 2,
       "version_minor": 0
      },
      "text/plain": [
       "  0%|          | 0/35 [00:00<?, ?it/s]"
      ]
     },
     "metadata": {},
     "output_type": "display_data"
    },
    {
     "data": {
      "application/vnd.jupyter.widget-view+json": {
       "model_id": "b47f4039ad594bed8756f01924fded95",
       "version_major": 2,
       "version_minor": 0
      },
      "text/plain": [
       "  0%|          | 0/1000 [00:00<?, ?it/s]"
      ]
     },
     "metadata": {},
     "output_type": "display_data"
    },
    {
     "data": {
      "application/vnd.jupyter.widget-view+json": {
       "model_id": "3baa417af5634557b586a151b224366e",
       "version_major": 2,
       "version_minor": 0
      },
      "text/plain": [
       "  0%|          | 0/200 [00:00<?, ?it/s]"
      ]
     },
     "metadata": {},
     "output_type": "display_data"
    },
    {
     "data": {
      "application/vnd.jupyter.widget-view+json": {
       "model_id": "213b0a6d63a4411fb68eae77e6d9de41",
       "version_major": 2,
       "version_minor": 0
      },
      "text/plain": [
       "  0%|          | 0/1000 [00:00<?, ?it/s]"
      ]
     },
     "metadata": {},
     "output_type": "display_data"
    },
    {
     "data": {
      "application/vnd.jupyter.widget-view+json": {
       "model_id": "7a88dd03a6324ed6b62f635854584594",
       "version_major": 2,
       "version_minor": 0
      },
      "text/plain": [
       "  0%|          | 0/200 [00:00<?, ?it/s]"
      ]
     },
     "metadata": {},
     "output_type": "display_data"
    },
    {
     "data": {
      "application/vnd.jupyter.widget-view+json": {
       "model_id": "be870054bc0d4050993dc366b3896ff9",
       "version_major": 2,
       "version_minor": 0
      },
      "text/plain": [
       "  0%|          | 0/1000 [00:00<?, ?it/s]"
      ]
     },
     "metadata": {},
     "output_type": "display_data"
    },
    {
     "data": {
      "application/vnd.jupyter.widget-view+json": {
       "model_id": "2e4f4d4c54374845a5d090535a71481c",
       "version_major": 2,
       "version_minor": 0
      },
      "text/plain": [
       "  0%|          | 0/200 [00:00<?, ?it/s]"
      ]
     },
     "metadata": {},
     "output_type": "display_data"
    },
    {
     "data": {
      "application/vnd.jupyter.widget-view+json": {
       "model_id": "cc09c8f1604e4a0bb2d44314b5c8375c",
       "version_major": 2,
       "version_minor": 0
      },
      "text/plain": [
       "  0%|          | 0/1000 [00:00<?, ?it/s]"
      ]
     },
     "metadata": {},
     "output_type": "display_data"
    },
    {
     "data": {
      "application/vnd.jupyter.widget-view+json": {
       "model_id": "8c5c6a2cd77e4a87927c034bd86142cc",
       "version_major": 2,
       "version_minor": 0
      },
      "text/plain": [
       "  0%|          | 0/200 [00:00<?, ?it/s]"
      ]
     },
     "metadata": {},
     "output_type": "display_data"
    },
    {
     "data": {
      "application/vnd.jupyter.widget-view+json": {
       "model_id": "dd40a31e6bb0491688efeac844dd769f",
       "version_major": 2,
       "version_minor": 0
      },
      "text/plain": [
       "  0%|          | 0/1000 [00:00<?, ?it/s]"
      ]
     },
     "metadata": {},
     "output_type": "display_data"
    },
    {
     "data": {
      "application/vnd.jupyter.widget-view+json": {
       "model_id": "851df59a1032484baf48e8136db16614",
       "version_major": 2,
       "version_minor": 0
      },
      "text/plain": [
       "  0%|          | 0/200 [00:00<?, ?it/s]"
      ]
     },
     "metadata": {},
     "output_type": "display_data"
    },
    {
     "data": {
      "application/vnd.jupyter.widget-view+json": {
       "model_id": "b81f79f8b99c49de9c7407d73edf598d",
       "version_major": 2,
       "version_minor": 0
      },
      "text/plain": [
       "  0%|          | 0/1000 [00:00<?, ?it/s]"
      ]
     },
     "metadata": {},
     "output_type": "display_data"
    },
    {
     "data": {
      "application/vnd.jupyter.widget-view+json": {
       "model_id": "594fa89eac9a49fa9c3aa9248f690707",
       "version_major": 2,
       "version_minor": 0
      },
      "text/plain": [
       "  0%|          | 0/200 [00:00<?, ?it/s]"
      ]
     },
     "metadata": {},
     "output_type": "display_data"
    },
    {
     "data": {
      "application/vnd.jupyter.widget-view+json": {
       "model_id": "24b2287d38f44e4e8cd74c0d93bcb370",
       "version_major": 2,
       "version_minor": 0
      },
      "text/plain": [
       "  0%|          | 0/1000 [00:00<?, ?it/s]"
      ]
     },
     "metadata": {},
     "output_type": "display_data"
    },
    {
     "data": {
      "application/vnd.jupyter.widget-view+json": {
       "model_id": "35811ee7f2674d6b8b8c318aacf981a1",
       "version_major": 2,
       "version_minor": 0
      },
      "text/plain": [
       "  0%|          | 0/200 [00:00<?, ?it/s]"
      ]
     },
     "metadata": {},
     "output_type": "display_data"
    },
    {
     "data": {
      "application/vnd.jupyter.widget-view+json": {
       "model_id": "e8f1dcac1d854055a46352662d183fb3",
       "version_major": 2,
       "version_minor": 0
      },
      "text/plain": [
       "  0%|          | 0/1000 [00:00<?, ?it/s]"
      ]
     },
     "metadata": {},
     "output_type": "display_data"
    },
    {
     "data": {
      "application/vnd.jupyter.widget-view+json": {
       "model_id": "0c734af0c8a4476fabd2ca9f08425b69",
       "version_major": 2,
       "version_minor": 0
      },
      "text/plain": [
       "  0%|          | 0/200 [00:00<?, ?it/s]"
      ]
     },
     "metadata": {},
     "output_type": "display_data"
    },
    {
     "data": {
      "application/vnd.jupyter.widget-view+json": {
       "model_id": "9f31cd8220c644c8b0c2aedc6d2fd699",
       "version_major": 2,
       "version_minor": 0
      },
      "text/plain": [
       "  0%|          | 0/1000 [00:00<?, ?it/s]"
      ]
     },
     "metadata": {},
     "output_type": "display_data"
    },
    {
     "data": {
      "application/vnd.jupyter.widget-view+json": {
       "model_id": "6a79570b15a245eea686418db1dff278",
       "version_major": 2,
       "version_minor": 0
      },
      "text/plain": [
       "  0%|          | 0/200 [00:00<?, ?it/s]"
      ]
     },
     "metadata": {},
     "output_type": "display_data"
    },
    {
     "data": {
      "application/vnd.jupyter.widget-view+json": {
       "model_id": "616c2b00c0594370aef3354371684f86",
       "version_major": 2,
       "version_minor": 0
      },
      "text/plain": [
       "  0%|          | 0/1000 [00:00<?, ?it/s]"
      ]
     },
     "metadata": {},
     "output_type": "display_data"
    },
    {
     "data": {
      "application/vnd.jupyter.widget-view+json": {
       "model_id": "9e24ec84f7794e3f8be80ae6cd797159",
       "version_major": 2,
       "version_minor": 0
      },
      "text/plain": [
       "  0%|          | 0/200 [00:00<?, ?it/s]"
      ]
     },
     "metadata": {},
     "output_type": "display_data"
    },
    {
     "data": {
      "application/vnd.jupyter.widget-view+json": {
       "model_id": "5c75df611b1e471baa0180458c3f9c5f",
       "version_major": 2,
       "version_minor": 0
      },
      "text/plain": [
       "  0%|          | 0/1000 [00:00<?, ?it/s]"
      ]
     },
     "metadata": {},
     "output_type": "display_data"
    },
    {
     "data": {
      "application/vnd.jupyter.widget-view+json": {
       "model_id": "fa3a5814af414cf997f2f6d9861e7cc2",
       "version_major": 2,
       "version_minor": 0
      },
      "text/plain": [
       "  0%|          | 0/200 [00:00<?, ?it/s]"
      ]
     },
     "metadata": {},
     "output_type": "display_data"
    },
    {
     "data": {
      "application/vnd.jupyter.widget-view+json": {
       "model_id": "d32cc611bb0d48c5977c4d47cf674458",
       "version_major": 2,
       "version_minor": 0
      },
      "text/plain": [
       "  0%|          | 0/1000 [00:00<?, ?it/s]"
      ]
     },
     "metadata": {},
     "output_type": "display_data"
    },
    {
     "data": {
      "application/vnd.jupyter.widget-view+json": {
       "model_id": "f35e9889c7d04f9aa88b0420f42534fb",
       "version_major": 2,
       "version_minor": 0
      },
      "text/plain": [
       "  0%|          | 0/200 [00:00<?, ?it/s]"
      ]
     },
     "metadata": {},
     "output_type": "display_data"
    },
    {
     "data": {
      "application/vnd.jupyter.widget-view+json": {
       "model_id": "8b5863cb74094f2fb6bcbd5d9eb958d0",
       "version_major": 2,
       "version_minor": 0
      },
      "text/plain": [
       "  0%|          | 0/1000 [00:00<?, ?it/s]"
      ]
     },
     "metadata": {},
     "output_type": "display_data"
    },
    {
     "data": {
      "application/vnd.jupyter.widget-view+json": {
       "model_id": "e40cc489efaa4eba8a026dbe3000a2b9",
       "version_major": 2,
       "version_minor": 0
      },
      "text/plain": [
       "  0%|          | 0/200 [00:00<?, ?it/s]"
      ]
     },
     "metadata": {},
     "output_type": "display_data"
    },
    {
     "data": {
      "application/vnd.jupyter.widget-view+json": {
       "model_id": "c8fcb25eff314a86937c0598d04b9b0b",
       "version_major": 2,
       "version_minor": 0
      },
      "text/plain": [
       "  0%|          | 0/1000 [00:00<?, ?it/s]"
      ]
     },
     "metadata": {},
     "output_type": "display_data"
    },
    {
     "data": {
      "application/vnd.jupyter.widget-view+json": {
       "model_id": "da4349b96cba4c33aefa241b0d4e1cf6",
       "version_major": 2,
       "version_minor": 0
      },
      "text/plain": [
       "  0%|          | 0/200 [00:00<?, ?it/s]"
      ]
     },
     "metadata": {},
     "output_type": "display_data"
    },
    {
     "data": {
      "application/vnd.jupyter.widget-view+json": {
       "model_id": "9d9d9d07a4d143f2b32fb5813f45c943",
       "version_major": 2,
       "version_minor": 0
      },
      "text/plain": [
       "  0%|          | 0/1000 [00:00<?, ?it/s]"
      ]
     },
     "metadata": {},
     "output_type": "display_data"
    },
    {
     "data": {
      "application/vnd.jupyter.widget-view+json": {
       "model_id": "a9342ba62aa743158af277745b7190de",
       "version_major": 2,
       "version_minor": 0
      },
      "text/plain": [
       "  0%|          | 0/200 [00:00<?, ?it/s]"
      ]
     },
     "metadata": {},
     "output_type": "display_data"
    },
    {
     "data": {
      "application/vnd.jupyter.widget-view+json": {
       "model_id": "5fb22495cf614b8082ca9add3cff2044",
       "version_major": 2,
       "version_minor": 0
      },
      "text/plain": [
       "  0%|          | 0/1000 [00:00<?, ?it/s]"
      ]
     },
     "metadata": {},
     "output_type": "display_data"
    },
    {
     "data": {
      "application/vnd.jupyter.widget-view+json": {
       "model_id": "7a0ceacaf7ae4c228715705fa8c3e59c",
       "version_major": 2,
       "version_minor": 0
      },
      "text/plain": [
       "  0%|          | 0/200 [00:00<?, ?it/s]"
      ]
     },
     "metadata": {},
     "output_type": "display_data"
    },
    {
     "data": {
      "application/vnd.jupyter.widget-view+json": {
       "model_id": "d9332df921564545a9623116ade3a72e",
       "version_major": 2,
       "version_minor": 0
      },
      "text/plain": [
       "  0%|          | 0/1000 [00:00<?, ?it/s]"
      ]
     },
     "metadata": {},
     "output_type": "display_data"
    },
    {
     "data": {
      "application/vnd.jupyter.widget-view+json": {
       "model_id": "e58a4ff1a01b4cf7b42708f179d16a59",
       "version_major": 2,
       "version_minor": 0
      },
      "text/plain": [
       "  0%|          | 0/200 [00:00<?, ?it/s]"
      ]
     },
     "metadata": {},
     "output_type": "display_data"
    },
    {
     "data": {
      "application/vnd.jupyter.widget-view+json": {
       "model_id": "31599645828e4bf9b48454b0e831a86f",
       "version_major": 2,
       "version_minor": 0
      },
      "text/plain": [
       "  0%|          | 0/1000 [00:00<?, ?it/s]"
      ]
     },
     "metadata": {},
     "output_type": "display_data"
    },
    {
     "data": {
      "application/vnd.jupyter.widget-view+json": {
       "model_id": "2b5ec6f590e04f828579eab8713baaf6",
       "version_major": 2,
       "version_minor": 0
      },
      "text/plain": [
       "  0%|          | 0/200 [00:00<?, ?it/s]"
      ]
     },
     "metadata": {},
     "output_type": "display_data"
    },
    {
     "data": {
      "application/vnd.jupyter.widget-view+json": {
       "model_id": "cdf19694c5f44339b7ab54aedd59be9c",
       "version_major": 2,
       "version_minor": 0
      },
      "text/plain": [
       "  0%|          | 0/1000 [00:00<?, ?it/s]"
      ]
     },
     "metadata": {},
     "output_type": "display_data"
    },
    {
     "data": {
      "application/vnd.jupyter.widget-view+json": {
       "model_id": "4b51ea4248894406bff3974ba193075b",
       "version_major": 2,
       "version_minor": 0
      },
      "text/plain": [
       "  0%|          | 0/200 [00:00<?, ?it/s]"
      ]
     },
     "metadata": {},
     "output_type": "display_data"
    },
    {
     "data": {
      "application/vnd.jupyter.widget-view+json": {
       "model_id": "5b010ad70846496fad800eea5f5456f6",
       "version_major": 2,
       "version_minor": 0
      },
      "text/plain": [
       "  0%|          | 0/1000 [00:00<?, ?it/s]"
      ]
     },
     "metadata": {},
     "output_type": "display_data"
    },
    {
     "data": {
      "application/vnd.jupyter.widget-view+json": {
       "model_id": "d8c6c31705bc46bcbb35e4cc641c9d13",
       "version_major": 2,
       "version_minor": 0
      },
      "text/plain": [
       "  0%|          | 0/200 [00:00<?, ?it/s]"
      ]
     },
     "metadata": {},
     "output_type": "display_data"
    },
    {
     "data": {
      "application/vnd.jupyter.widget-view+json": {
       "model_id": "7a1b5077307f49f7a8a5ef50803d5f10",
       "version_major": 2,
       "version_minor": 0
      },
      "text/plain": [
       "  0%|          | 0/1000 [00:00<?, ?it/s]"
      ]
     },
     "metadata": {},
     "output_type": "display_data"
    },
    {
     "data": {
      "application/vnd.jupyter.widget-view+json": {
       "model_id": "8c6a5688957d45e099a6eb2ffea24e7e",
       "version_major": 2,
       "version_minor": 0
      },
      "text/plain": [
       "  0%|          | 0/200 [00:00<?, ?it/s]"
      ]
     },
     "metadata": {},
     "output_type": "display_data"
    },
    {
     "data": {
      "application/vnd.jupyter.widget-view+json": {
       "model_id": "4d6edd2d09de4f5fbe452c467cd8f9a4",
       "version_major": 2,
       "version_minor": 0
      },
      "text/plain": [
       "  0%|          | 0/1000 [00:00<?, ?it/s]"
      ]
     },
     "metadata": {},
     "output_type": "display_data"
    },
    {
     "data": {
      "application/vnd.jupyter.widget-view+json": {
       "model_id": "e579f6a27e5a43889299f988d7e64a34",
       "version_major": 2,
       "version_minor": 0
      },
      "text/plain": [
       "  0%|          | 0/200 [00:00<?, ?it/s]"
      ]
     },
     "metadata": {},
     "output_type": "display_data"
    },
    {
     "data": {
      "application/vnd.jupyter.widget-view+json": {
       "model_id": "ab1d27fa5fe542b0a86969d062fa35fc",
       "version_major": 2,
       "version_minor": 0
      },
      "text/plain": [
       "  0%|          | 0/1000 [00:00<?, ?it/s]"
      ]
     },
     "metadata": {},
     "output_type": "display_data"
    },
    {
     "data": {
      "application/vnd.jupyter.widget-view+json": {
       "model_id": "4dfad13a246b4f76b83b139eead01d1e",
       "version_major": 2,
       "version_minor": 0
      },
      "text/plain": [
       "  0%|          | 0/200 [00:00<?, ?it/s]"
      ]
     },
     "metadata": {},
     "output_type": "display_data"
    },
    {
     "data": {
      "application/vnd.jupyter.widget-view+json": {
       "model_id": "7e96dbe8ddfa4861a759237131e7ab31",
       "version_major": 2,
       "version_minor": 0
      },
      "text/plain": [
       "  0%|          | 0/1000 [00:00<?, ?it/s]"
      ]
     },
     "metadata": {},
     "output_type": "display_data"
    },
    {
     "data": {
      "application/vnd.jupyter.widget-view+json": {
       "model_id": "052947526b684f93ad7d05b535f315d4",
       "version_major": 2,
       "version_minor": 0
      },
      "text/plain": [
       "  0%|          | 0/200 [00:00<?, ?it/s]"
      ]
     },
     "metadata": {},
     "output_type": "display_data"
    },
    {
     "data": {
      "application/vnd.jupyter.widget-view+json": {
       "model_id": "4192b8e30d53432a8737e519001511e8",
       "version_major": 2,
       "version_minor": 0
      },
      "text/plain": [
       "  0%|          | 0/1000 [00:00<?, ?it/s]"
      ]
     },
     "metadata": {},
     "output_type": "display_data"
    },
    {
     "data": {
      "application/vnd.jupyter.widget-view+json": {
       "model_id": "d103df2ec8524b1d8987fb2df93ee60f",
       "version_major": 2,
       "version_minor": 0
      },
      "text/plain": [
       "  0%|          | 0/200 [00:00<?, ?it/s]"
      ]
     },
     "metadata": {},
     "output_type": "display_data"
    },
    {
     "data": {
      "application/vnd.jupyter.widget-view+json": {
       "model_id": "a7c71a47a44747cebbfb1053c6c8b2dc",
       "version_major": 2,
       "version_minor": 0
      },
      "text/plain": [
       "  0%|          | 0/1000 [00:00<?, ?it/s]"
      ]
     },
     "metadata": {},
     "output_type": "display_data"
    },
    {
     "data": {
      "application/vnd.jupyter.widget-view+json": {
       "model_id": "409525debff84177ab6faf09b5b811f1",
       "version_major": 2,
       "version_minor": 0
      },
      "text/plain": [
       "  0%|          | 0/200 [00:00<?, ?it/s]"
      ]
     },
     "metadata": {},
     "output_type": "display_data"
    },
    {
     "data": {
      "application/vnd.jupyter.widget-view+json": {
       "model_id": "361894d16b164a91943c89d59e27e687",
       "version_major": 2,
       "version_minor": 0
      },
      "text/plain": [
       "  0%|          | 0/1000 [00:00<?, ?it/s]"
      ]
     },
     "metadata": {},
     "output_type": "display_data"
    },
    {
     "data": {
      "application/vnd.jupyter.widget-view+json": {
       "model_id": "d09760f297af49d2982a19b75859ba95",
       "version_major": 2,
       "version_minor": 0
      },
      "text/plain": [
       "  0%|          | 0/200 [00:00<?, ?it/s]"
      ]
     },
     "metadata": {},
     "output_type": "display_data"
    },
    {
     "data": {
      "application/vnd.jupyter.widget-view+json": {
       "model_id": "5fca550af6d44059ab6fea8a1c5190be",
       "version_major": 2,
       "version_minor": 0
      },
      "text/plain": [
       "  0%|          | 0/1000 [00:00<?, ?it/s]"
      ]
     },
     "metadata": {},
     "output_type": "display_data"
    },
    {
     "data": {
      "application/vnd.jupyter.widget-view+json": {
       "model_id": "7dc4736b31e7420fb2fe7e939e599f72",
       "version_major": 2,
       "version_minor": 0
      },
      "text/plain": [
       "  0%|          | 0/200 [00:00<?, ?it/s]"
      ]
     },
     "metadata": {},
     "output_type": "display_data"
    },
    {
     "data": {
      "application/vnd.jupyter.widget-view+json": {
       "model_id": "fd17f0bd17d94d8399b7ecb2f3bd825f",
       "version_major": 2,
       "version_minor": 0
      },
      "text/plain": [
       "  0%|          | 0/1000 [00:00<?, ?it/s]"
      ]
     },
     "metadata": {},
     "output_type": "display_data"
    },
    {
     "data": {
      "application/vnd.jupyter.widget-view+json": {
       "model_id": "087a4d879bd84da1ae1029b2ccdecbba",
       "version_major": 2,
       "version_minor": 0
      },
      "text/plain": [
       "  0%|          | 0/200 [00:00<?, ?it/s]"
      ]
     },
     "metadata": {},
     "output_type": "display_data"
    },
    {
     "data": {
      "application/vnd.jupyter.widget-view+json": {
       "model_id": "a45ad2131cd14b3eaa204e6302a3fc24",
       "version_major": 2,
       "version_minor": 0
      },
      "text/plain": [
       "  0%|          | 0/1000 [00:00<?, ?it/s]"
      ]
     },
     "metadata": {},
     "output_type": "display_data"
    },
    {
     "data": {
      "application/vnd.jupyter.widget-view+json": {
       "model_id": "eec1e8095ff941e1b686d07da9a56361",
       "version_major": 2,
       "version_minor": 0
      },
      "text/plain": [
       "  0%|          | 0/200 [00:00<?, ?it/s]"
      ]
     },
     "metadata": {},
     "output_type": "display_data"
    },
    {
     "data": {
      "application/vnd.jupyter.widget-view+json": {
       "model_id": "c9e6338605ca4f04a80c057fd170a9a1",
       "version_major": 2,
       "version_minor": 0
      },
      "text/plain": [
       "  0%|          | 0/1000 [00:00<?, ?it/s]"
      ]
     },
     "metadata": {},
     "output_type": "display_data"
    },
    {
     "data": {
      "application/vnd.jupyter.widget-view+json": {
       "model_id": "392da253d34f40b5bda51343e6da5a02",
       "version_major": 2,
       "version_minor": 0
      },
      "text/plain": [
       "  0%|          | 0/200 [00:00<?, ?it/s]"
      ]
     },
     "metadata": {},
     "output_type": "display_data"
    },
    {
     "data": {
      "application/vnd.jupyter.widget-view+json": {
       "model_id": "58f8080e572e417681e4d4056209a673",
       "version_major": 2,
       "version_minor": 0
      },
      "text/plain": [
       "  0%|          | 0/1000 [00:00<?, ?it/s]"
      ]
     },
     "metadata": {},
     "output_type": "display_data"
    },
    {
     "data": {
      "application/vnd.jupyter.widget-view+json": {
       "model_id": "5a51f8093fe04ddd89e75a3e3a874c06",
       "version_major": 2,
       "version_minor": 0
      },
      "text/plain": [
       "  0%|          | 0/200 [00:00<?, ?it/s]"
      ]
     },
     "metadata": {},
     "output_type": "display_data"
    },
    {
     "data": {
      "application/vnd.jupyter.widget-view+json": {
       "model_id": "8f507cc462104acb83b0fff691bda24f",
       "version_major": 2,
       "version_minor": 0
      },
      "text/plain": [
       "  0%|          | 0/1000 [00:00<?, ?it/s]"
      ]
     },
     "metadata": {},
     "output_type": "display_data"
    },
    {
     "data": {
      "application/vnd.jupyter.widget-view+json": {
       "model_id": "4cc288535bd2431c8df5c8f3ce49b66b",
       "version_major": 2,
       "version_minor": 0
      },
      "text/plain": [
       "  0%|          | 0/200 [00:00<?, ?it/s]"
      ]
     },
     "metadata": {},
     "output_type": "display_data"
    },
    {
     "data": {
      "application/vnd.jupyter.widget-view+json": {
       "model_id": "e34436689e9149418429f6a41b249b4c",
       "version_major": 2,
       "version_minor": 0
      },
      "text/plain": [
       "  0%|          | 0/1000 [00:00<?, ?it/s]"
      ]
     },
     "metadata": {},
     "output_type": "display_data"
    },
    {
     "data": {
      "application/vnd.jupyter.widget-view+json": {
       "model_id": "731b376984584380baf8384f4b2cf481",
       "version_major": 2,
       "version_minor": 0
      },
      "text/plain": [
       "  0%|          | 0/200 [00:00<?, ?it/s]"
      ]
     },
     "metadata": {},
     "output_type": "display_data"
    },
    {
     "data": {
      "application/vnd.jupyter.widget-view+json": {
       "model_id": "fb8eaaf963474502ad92b837106b4e4f",
       "version_major": 2,
       "version_minor": 0
      },
      "text/plain": [
       "  0%|          | 0/1000 [00:00<?, ?it/s]"
      ]
     },
     "metadata": {},
     "output_type": "display_data"
    },
    {
     "data": {
      "application/vnd.jupyter.widget-view+json": {
       "model_id": "a6446c56f9444d5e917d661c73862e19",
       "version_major": 2,
       "version_minor": 0
      },
      "text/plain": [
       "  0%|          | 0/200 [00:00<?, ?it/s]"
      ]
     },
     "metadata": {},
     "output_type": "display_data"
    }
   ],
   "source": [
    "from itertools import product\n",
    "JRange = np.arange(-1, 1.1, 0.5)\n",
    "KRange = np.arange(-1, 2.1, 0.5)\n",
    "dt = 0.1\n",
    "\n",
    "for J, K in tqdm(product(JRange, KRange), total=len(JRange) * len(KRange)):\n",
    "\n",
    "    model = FreqCoupledChiralSwarmalators2D(agentsNum=500, dt=dt, J=J, K=K, A=1, B=1)\n",
    "    \n",
    "    import imageio\n",
    "    import os\n",
    "    import shutil\n",
    "\n",
    "    if os.path.exists(\"imagesFreqCoupled\"):\n",
    "        shutil.rmtree(\"imagesFreqCoupled\")\n",
    "    os.mkdir(\"imagesFreqCoupled\")\n",
    "\n",
    "    positions = []\n",
    "    phases = []\n",
    "    velocities = []\n",
    "\n",
    "    for i in tqdm(range(1000)):\n",
    "        model.update()\n",
    "        if i % 5 == 0:\n",
    "            positions.append(model.positionX.copy())\n",
    "            phases.append(model.phaseTheta.copy())\n",
    "            velocities.append(model.velocity.copy())\n",
    "\n",
    "    xOfPositions = np.array(positions)[:, :, 0]\n",
    "    yOfPositions = np.array(positions)[:, :, 1]\n",
    "    xlim = (np.min(xOfPositions), np.max(xOfPositions))\n",
    "    ylim = (np.min(yOfPositions), np.max(yOfPositions))\n",
    "    images = []\n",
    "\n",
    "    for i, (position, phase, velocity) in tqdm(enumerate(zip(positions, phases, velocities)), total=len(positions)):\n",
    "        plot_model(position, phase, velocity, xlim=xlim, ylim=ylim, title=f\"{i}. J={J}, K={K}, t={dt * 5 * i}\")\n",
    "        plt.savefig(f\"imagesFreqCoupled/{i}.png\")\n",
    "        plt.close()\n",
    "        images.append(imageio.imread(f\"imagesFreqCoupled/{i}.png\"))\n",
    "        \n",
    "    imageio.mimsave(f\"FreqCoupledJ={J}_K={K}.gif\", images, fps=10)"
   ]
  }
 ],
 "metadata": {
  "kernelspec": {
   "display_name": "base",
   "language": "python",
   "name": "python3"
  },
  "language_info": {
   "codemirror_mode": {
    "name": "ipython",
    "version": 3
   },
   "file_extension": ".py",
   "mimetype": "text/x-python",
   "name": "python",
   "nbconvert_exporter": "python",
   "pygments_lexer": "ipython3",
   "version": "3.7.6"
  },
  "orig_nbformat": 4
 },
 "nbformat": 4,
 "nbformat_minor": 2
}

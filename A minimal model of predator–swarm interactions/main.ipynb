{
 "cells": [
  {
   "cell_type": "code",
   "execution_count": 1,
   "metadata": {},
   "outputs": [],
   "source": [
    "import numpy as np\n",
    "import numba as nb\n",
    "import sys\n",
    "\n",
    "\n",
    "sys.path.append(\"..\")\n",
    "\n",
    "from swarmalatorlib.template import Swarmalators2D"
   ]
  },
  {
   "cell_type": "code",
   "execution_count": 12,
   "metadata": {},
   "outputs": [],
   "source": [
    "class MinimalPredator(Swarmalators2D):\n",
    "    def __init__(self, agentsNum: int, dt: float, \n",
    "                 a: float, b: float, c: float, p: float,\n",
    "                 randomSeed: int = 100) -> None:\n",
    "        super().__init__(agentsNum, dt, 0, randomSeed)\n",
    "        self.a = a\n",
    "        self.b = b\n",
    "        self.c = c\n",
    "        self.p = p\n",
    "        self.predatorPosition = np.array([0.0, 0.0])\n",
    "\n",
    "    @property\n",
    "    def Iatt(self) -> np.ndarray:\n",
    "        \"\"\"Spatial attraction: a(x_j - x_i)\"\"\"\n",
    "        return self.a * self.deltaX\n",
    "    \n",
    "    @property\n",
    "    def Irep(self) -> np.ndarray:\n",
    "        \"\"\"Spatial repulsion: (x_j - x_i) / |x_j - x_i|^2\"\"\"\n",
    "        deltaX = self.deltaX\n",
    "        return deltaX / self.distance_x_2(deltaX) ** 2\n",
    "\n",
    "    @property\n",
    "    def Fpredator(self) -> np.ndarray:\n",
    "        \"\"\"Effect of spatial repulsion on spatial barrier\"\"\"\n",
    "        return self._Fpredator(\n",
    "            position=self.positionX, \n",
    "            predatorPosition=self.predatorPosition,\n",
    "            b=self.b\n",
    "        )\n",
    "\n",
    "    @staticmethod\n",
    "    @nb.njit\n",
    "    def _Fpredator(position: np.ndarray, predatorPosition: np.ndarray, b: float):\n",
    "        delta = position - predatorPosition\n",
    "        distence = delta[:, 0] ** 2 + delta[:, 1] ** 2\n",
    "        return b * delta / distence.reshape(distence.shape[0], 1)\n",
    "\n",
    "    @property\n",
    "    def Fprey(self):\n",
    "        return self._Fprey(\n",
    "            position=self.positionX, predatorPosition=self.predatorPosition,\n",
    "            c=self.c, p=self.p\n",
    "        )\n",
    "\n",
    "    @staticmethod\n",
    "    @nb.njit\n",
    "    def _Fprey(position: np.ndarray, predatorPosition: np.ndarray, \n",
    "               c: float, p: float):\n",
    "        delta = position - predatorPosition\n",
    "        distence = np.sqrt(delta[:, 0] ** 2 + delta[:, 1] ** 2) ** p\n",
    "        return c / delta.shape[0] * np.sum(delta / distence.reshape(distence.shape[0], 1), axis=0)\n",
    "\n",
    "    @staticmethod\n",
    "    # @nb.njit\n",
    "    def _update(\n",
    "        positionX: np.ndarray, predatorPosition: np.ndarray,\n",
    "        Iatt: np.ndarray, Irep: np.ndarray,\n",
    "        Fpredator: np.ndarray, Fprey: np.ndarray,\n",
    "        dt: float\n",
    "    ):\n",
    "        dim = positionX.shape[0]\n",
    "        pointX = np.sum(Irep - Iatt, axis=1) / (dim - 1) + Fpredator\n",
    "        positionX += pointX * dt\n",
    "        predatorPosition += Fprey\n",
    "        return positionX\n",
    "    \n",
    "    def update(self) -> None:\n",
    "        self.positionX, self.predatorPosition = self._update(\n",
    "            positionX=self.positionX, predatorPosition=self.predatorPosition,\n",
    "            Iatt=self.Iatt, Irep=self.Irep,\n",
    "            Fpredator=self.Fpredator, Fprey=self.Fprey, dt=self.dt\n",
    "        )"
   ]
  },
  {
   "cell_type": "code",
   "execution_count": 13,
   "metadata": {},
   "outputs": [],
   "source": [
    "model = MinimalPredator(agentsNum=1000, dt=0.05, a=1, b=2, c=1.5, p=3)"
   ]
  },
  {
   "cell_type": "code",
   "execution_count": 22,
   "metadata": {},
   "outputs": [
    {
     "data": {
      "text/plain": [
       "array([149.35869664, 178.9273131 ])"
      ]
     },
     "execution_count": 22,
     "metadata": {},
     "output_type": "execute_result"
    }
   ],
   "source": [
    "delta = model.positionX - model.predatorPosition\n",
    "distence = np.sqrt(delta[:, 0] ** 2 + delta[:, 1] ** 2) ** 3\n",
    "np.sum(delta / distence.reshape(1000, 1), axis=0) / 1000"
   ]
  },
  {
   "cell_type": "code",
   "execution_count": 14,
   "metadata": {},
   "outputs": [
    {
     "data": {
      "text/plain": [
       "array([224.03804496, 268.39096966])"
      ]
     },
     "execution_count": 14,
     "metadata": {},
     "output_type": "execute_result"
    }
   ],
   "source": [
    "model.Fprey"
   ]
  }
 ],
 "metadata": {
  "kernelspec": {
   "display_name": "py37",
   "language": "python",
   "name": "python3"
  },
  "language_info": {
   "codemirror_mode": {
    "name": "ipython",
    "version": 3
   },
   "file_extension": ".py",
   "mimetype": "text/x-python",
   "name": "python",
   "nbconvert_exporter": "python",
   "pygments_lexer": "ipython3",
   "version": "3.7.16"
  }
 },
 "nbformat": 4,
 "nbformat_minor": 2
}
